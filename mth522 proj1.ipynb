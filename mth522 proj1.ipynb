{
 "cells": [
  {
   "cell_type": "code",
   "execution_count": 20,
   "id": "1c7c5f0d",
   "metadata": {
    "tags": []
   },
   "outputs": [],
   "source": [
    "import pandas as pd\n",
    "import numpy as np\n",
    "import matplotlib.pyplot as plt\n",
    "import seaborn as sns\n",
    "from sklearn.model_selection import train_test_split\n"
   ]
  },
  {
   "cell_type": "code",
   "execution_count": 21,
   "id": "dea242f7",
   "metadata": {
    "tags": []
   },
   "outputs": [],
   "source": [
    "df= pd.read_csv(r'C:\\Users\\Rathn\\OneDrive\\Documents\\MTH522\\Diabetes_Dataset_Ratnaraj_Marpu.csv')\n"
   ]
  },
  {
   "cell_type": "code",
   "execution_count": 22,
   "id": "f7d7959a",
   "metadata": {
    "tags": []
   },
   "outputs": [
    {
     "data": {
      "text/html": [
       "<div>\n",
       "<style scoped>\n",
       "    .dataframe tbody tr th:only-of-type {\n",
       "        vertical-align: middle;\n",
       "    }\n",
       "\n",
       "    .dataframe tbody tr th {\n",
       "        vertical-align: top;\n",
       "    }\n",
       "\n",
       "    .dataframe thead th {\n",
       "        text-align: right;\n",
       "    }\n",
       "</style>\n",
       "<table border=\"1\" class=\"dataframe\">\n",
       "  <thead>\n",
       "    <tr style=\"text-align: right;\">\n",
       "      <th></th>\n",
       "      <th>FIPDS</th>\n",
       "      <th>COUNTY</th>\n",
       "      <th>STATE</th>\n",
       "      <th>DIABETIC</th>\n",
       "      <th>OBESE</th>\n",
       "      <th>INACTIVE</th>\n",
       "    </tr>\n",
       "  </thead>\n",
       "  <tbody>\n",
       "    <tr>\n",
       "      <th>0</th>\n",
       "      <td>1011</td>\n",
       "      <td>Bullock County</td>\n",
       "      <td>Alabama</td>\n",
       "      <td>9.4</td>\n",
       "      <td>18.7</td>\n",
       "      <td>17.0</td>\n",
       "    </tr>\n",
       "    <tr>\n",
       "      <th>1</th>\n",
       "      <td>2068</td>\n",
       "      <td>Denali Borough</td>\n",
       "      <td>Alaska</td>\n",
       "      <td>6.8</td>\n",
       "      <td>18.9</td>\n",
       "      <td>16.2</td>\n",
       "    </tr>\n",
       "    <tr>\n",
       "      <th>2</th>\n",
       "      <td>2105</td>\n",
       "      <td>Hoonah-Angoon Census Area</td>\n",
       "      <td>Alaska</td>\n",
       "      <td>7.3</td>\n",
       "      <td>19.4</td>\n",
       "      <td>15.0</td>\n",
       "    </tr>\n",
       "    <tr>\n",
       "      <th>3</th>\n",
       "      <td>2195</td>\n",
       "      <td>Petersburg Census Area</td>\n",
       "      <td>Alaska</td>\n",
       "      <td>9.2</td>\n",
       "      <td>17.2</td>\n",
       "      <td>17.8</td>\n",
       "    </tr>\n",
       "    <tr>\n",
       "      <th>4</th>\n",
       "      <td>2230</td>\n",
       "      <td>Skagway Municipality</td>\n",
       "      <td>Alaska</td>\n",
       "      <td>6.6</td>\n",
       "      <td>18.3</td>\n",
       "      <td>15.8</td>\n",
       "    </tr>\n",
       "    <tr>\n",
       "      <th>...</th>\n",
       "      <td>...</td>\n",
       "      <td>...</td>\n",
       "      <td>...</td>\n",
       "      <td>...</td>\n",
       "      <td>...</td>\n",
       "      <td>...</td>\n",
       "    </tr>\n",
       "    <tr>\n",
       "      <th>349</th>\n",
       "      <td>51820</td>\n",
       "      <td>Waynesboro City</td>\n",
       "      <td>Virginia</td>\n",
       "      <td>8.6</td>\n",
       "      <td>19.5</td>\n",
       "      <td>16.6</td>\n",
       "    </tr>\n",
       "    <tr>\n",
       "      <th>350</th>\n",
       "      <td>51830</td>\n",
       "      <td>Williamsburg City</td>\n",
       "      <td>Virginia</td>\n",
       "      <td>8.5</td>\n",
       "      <td>18.0</td>\n",
       "      <td>15.7</td>\n",
       "    </tr>\n",
       "    <tr>\n",
       "      <th>351</th>\n",
       "      <td>51840</td>\n",
       "      <td>Winchester City</td>\n",
       "      <td>Virginia</td>\n",
       "      <td>6.9</td>\n",
       "      <td>19.4</td>\n",
       "      <td>16.1</td>\n",
       "    </tr>\n",
       "    <tr>\n",
       "      <th>352</th>\n",
       "      <td>53055</td>\n",
       "      <td>San Juan County</td>\n",
       "      <td>Washington</td>\n",
       "      <td>4.5</td>\n",
       "      <td>19.3</td>\n",
       "      <td>11.9</td>\n",
       "    </tr>\n",
       "    <tr>\n",
       "      <th>353</th>\n",
       "      <td>56039</td>\n",
       "      <td>Teton County</td>\n",
       "      <td>Wyoming</td>\n",
       "      <td>3.8</td>\n",
       "      <td>10.5</td>\n",
       "      <td>10.7</td>\n",
       "    </tr>\n",
       "  </tbody>\n",
       "</table>\n",
       "<p>354 rows × 6 columns</p>\n",
       "</div>"
      ],
      "text/plain": [
       "     FIPDS                     COUNTY       STATE   DIABETIC  OBESE  INACTIVE\n",
       "0     1011             Bullock County     Alabama        9.4   18.7      17.0\n",
       "1     2068             Denali Borough      Alaska        6.8   18.9      16.2\n",
       "2     2105  Hoonah-Angoon Census Area      Alaska        7.3   19.4      15.0\n",
       "3     2195     Petersburg Census Area      Alaska        9.2   17.2      17.8\n",
       "4     2230       Skagway Municipality      Alaska        6.6   18.3      15.8\n",
       "..     ...                        ...         ...        ...    ...       ...\n",
       "349  51820            Waynesboro City    Virginia        8.6   19.5      16.6\n",
       "350  51830          Williamsburg City    Virginia        8.5   18.0      15.7\n",
       "351  51840            Winchester City    Virginia        6.9   19.4      16.1\n",
       "352  53055            San Juan County  Washington        4.5   19.3      11.9\n",
       "353  56039               Teton County     Wyoming        3.8   10.5      10.7\n",
       "\n",
       "[354 rows x 6 columns]"
      ]
     },
     "execution_count": 22,
     "metadata": {},
     "output_type": "execute_result"
    }
   ],
   "source": [
    "df"
   ]
  },
  {
   "cell_type": "code",
   "execution_count": 23,
   "id": "04c178af",
   "metadata": {
    "tags": []
   },
   "outputs": [
    {
     "data": {
      "text/plain": [
       "pandas.core.frame.DataFrame"
      ]
     },
     "execution_count": 23,
     "metadata": {},
     "output_type": "execute_result"
    }
   ],
   "source": [
    "type(df)"
   ]
  },
  {
   "cell_type": "code",
   "execution_count": 24,
   "id": "a629ff28",
   "metadata": {},
   "outputs": [
    {
     "data": {
      "text/plain": [
       "Index(['FIPDS', 'COUNTY', 'STATE', ' DIABETIC', 'OBESE', 'INACTIVE'], dtype='object')"
      ]
     },
     "execution_count": 24,
     "metadata": {},
     "output_type": "execute_result"
    }
   ],
   "source": [
    "df.columns"
   ]
  },
  {
   "cell_type": "code",
   "execution_count": 25,
   "id": "f9cba5f9",
   "metadata": {},
   "outputs": [],
   "source": [
    "df_cleaned = df.dropna(subset=[ ' DIABETIC','OBESE', 'INACTIVE'])"
   ]
  },
  {
   "cell_type": "code",
   "execution_count": 26,
   "id": "c0c0601e",
   "metadata": {},
   "outputs": [],
   "source": [
    "# Prepare the data for linear regression again\n",
    "X_obesity_cleaned = df_cleaned[['OBESE']]\n",
    "y_diabetic_cleaned = df_cleaned[' DIABETIC']"
   ]
  },
  {
   "cell_type": "code",
   "execution_count": 27,
   "id": "46a0493d",
   "metadata": {},
   "outputs": [],
   "source": [
    "# Split the data into training and testing sets for obesity vs. diabetic\n",
    "X_train_obesity, X_test_obesity, y_train_diabetic, y_test_diabetic = train_test_split(X_obesity_cleaned, y_diabetic_cleaned, test_size=0.2, random_state=0)"
   ]
  },
  {
   "cell_type": "code",
   "execution_count": 29,
   "id": "69702dce",
   "metadata": {},
   "outputs": [
    {
     "data": {
      "text/html": [
       "<style>#sk-container-id-1 {color: black;}#sk-container-id-1 pre{padding: 0;}#sk-container-id-1 div.sk-toggleable {background-color: white;}#sk-container-id-1 label.sk-toggleable__label {cursor: pointer;display: block;width: 100%;margin-bottom: 0;padding: 0.3em;box-sizing: border-box;text-align: center;}#sk-container-id-1 label.sk-toggleable__label-arrow:before {content: \"▸\";float: left;margin-right: 0.25em;color: #696969;}#sk-container-id-1 label.sk-toggleable__label-arrow:hover:before {color: black;}#sk-container-id-1 div.sk-estimator:hover label.sk-toggleable__label-arrow:before {color: black;}#sk-container-id-1 div.sk-toggleable__content {max-height: 0;max-width: 0;overflow: hidden;text-align: left;background-color: #f0f8ff;}#sk-container-id-1 div.sk-toggleable__content pre {margin: 0.2em;color: black;border-radius: 0.25em;background-color: #f0f8ff;}#sk-container-id-1 input.sk-toggleable__control:checked~div.sk-toggleable__content {max-height: 200px;max-width: 100%;overflow: auto;}#sk-container-id-1 input.sk-toggleable__control:checked~label.sk-toggleable__label-arrow:before {content: \"▾\";}#sk-container-id-1 div.sk-estimator input.sk-toggleable__control:checked~label.sk-toggleable__label {background-color: #d4ebff;}#sk-container-id-1 div.sk-label input.sk-toggleable__control:checked~label.sk-toggleable__label {background-color: #d4ebff;}#sk-container-id-1 input.sk-hidden--visually {border: 0;clip: rect(1px 1px 1px 1px);clip: rect(1px, 1px, 1px, 1px);height: 1px;margin: -1px;overflow: hidden;padding: 0;position: absolute;width: 1px;}#sk-container-id-1 div.sk-estimator {font-family: monospace;background-color: #f0f8ff;border: 1px dotted black;border-radius: 0.25em;box-sizing: border-box;margin-bottom: 0.5em;}#sk-container-id-1 div.sk-estimator:hover {background-color: #d4ebff;}#sk-container-id-1 div.sk-parallel-item::after {content: \"\";width: 100%;border-bottom: 1px solid gray;flex-grow: 1;}#sk-container-id-1 div.sk-label:hover label.sk-toggleable__label {background-color: #d4ebff;}#sk-container-id-1 div.sk-serial::before {content: \"\";position: absolute;border-left: 1px solid gray;box-sizing: border-box;top: 0;bottom: 0;left: 50%;z-index: 0;}#sk-container-id-1 div.sk-serial {display: flex;flex-direction: column;align-items: center;background-color: white;padding-right: 0.2em;padding-left: 0.2em;position: relative;}#sk-container-id-1 div.sk-item {position: relative;z-index: 1;}#sk-container-id-1 div.sk-parallel {display: flex;align-items: stretch;justify-content: center;background-color: white;position: relative;}#sk-container-id-1 div.sk-item::before, #sk-container-id-1 div.sk-parallel-item::before {content: \"\";position: absolute;border-left: 1px solid gray;box-sizing: border-box;top: 0;bottom: 0;left: 50%;z-index: -1;}#sk-container-id-1 div.sk-parallel-item {display: flex;flex-direction: column;z-index: 1;position: relative;background-color: white;}#sk-container-id-1 div.sk-parallel-item:first-child::after {align-self: flex-end;width: 50%;}#sk-container-id-1 div.sk-parallel-item:last-child::after {align-self: flex-start;width: 50%;}#sk-container-id-1 div.sk-parallel-item:only-child::after {width: 0;}#sk-container-id-1 div.sk-dashed-wrapped {border: 1px dashed gray;margin: 0 0.4em 0.5em 0.4em;box-sizing: border-box;padding-bottom: 0.4em;background-color: white;}#sk-container-id-1 div.sk-label label {font-family: monospace;font-weight: bold;display: inline-block;line-height: 1.2em;}#sk-container-id-1 div.sk-label-container {text-align: center;}#sk-container-id-1 div.sk-container {/* jupyter's `normalize.less` sets `[hidden] { display: none; }` but bootstrap.min.css set `[hidden] { display: none !important; }` so we also need the `!important` here to be able to override the default hidden behavior on the sphinx rendered scikit-learn.org. See: https://github.com/scikit-learn/scikit-learn/issues/21755 */display: inline-block !important;position: relative;}#sk-container-id-1 div.sk-text-repr-fallback {display: none;}</style><div id=\"sk-container-id-1\" class=\"sk-top-container\"><div class=\"sk-text-repr-fallback\"><pre>LinearRegression()</pre><b>In a Jupyter environment, please rerun this cell to show the HTML representation or trust the notebook. <br />On GitHub, the HTML representation is unable to render, please try loading this page with nbviewer.org.</b></div><div class=\"sk-container\" hidden><div class=\"sk-item\"><div class=\"sk-estimator sk-toggleable\"><input class=\"sk-toggleable__control sk-hidden--visually\" id=\"sk-estimator-id-1\" type=\"checkbox\" checked><label for=\"sk-estimator-id-1\" class=\"sk-toggleable__label sk-toggleable__label-arrow\">LinearRegression</label><div class=\"sk-toggleable__content\"><pre>LinearRegression()</pre></div></div></div></div></div>"
      ],
      "text/plain": [
       "LinearRegression()"
      ]
     },
     "execution_count": 29,
     "metadata": {},
     "output_type": "execute_result"
    }
   ],
   "source": [
    "# Create and train the linear regression model for obesity vs. diabetic\n",
    "from sklearn.linear_model import LinearRegression\n",
    "model_obesity = LinearRegression()\n",
    "model_obesity.fit(X_train_obesity, y_train_diabetic)"
   ]
  },
  {
   "cell_type": "code",
   "execution_count": 31,
   "id": "d7eacdf4",
   "metadata": {},
   "outputs": [],
   "source": [
    "# Predictions and model evaluation for obesity vs. diabetic\n",
    "from sklearn.metrics import r2_score,mean_squared_error\n",
    "y_pred_obesity = model_obesity.predict(X_test_obesity)\n",
    "mse_obesity = mean_squared_error(y_test_diabetic, y_pred_obesity)\n",
    "r2_obesity = r2_score(y_test_diabetic, y_pred_obesity)"
   ]
  },
  {
   "cell_type": "code",
   "execution_count": 32,
   "id": "0b3297dc",
   "metadata": {},
   "outputs": [],
   "source": [
    "# Repeat the process for inactivity vs. diabetic\n",
    "X_inactivity_cleaned = df_cleaned[['INACTIVE']]\n",
    "X_train_inactivity, X_test_inactivity, y_train_diabetic, y_test_diabetic = train_test_split(X_inactivity_cleaned, y_diabetic_cleaned, test_size=0.2, random_state=0)"
   ]
  },
  {
   "cell_type": "code",
   "execution_count": 33,
   "id": "7f2aadd3",
   "metadata": {},
   "outputs": [],
   "source": [
    "model_inactivity = LinearRegression()\n",
    "model_inactivity.fit(X_train_inactivity, y_train_diabetic)\n",
    "\n",
    "y_pred_inactivity = model_inactivity.predict(X_test_inactivity)\n",
    "mse_inactivity = mean_squared_error(y_test_diabetic, y_pred_inactivity)\n",
    "r2_inactivity = r2_score(y_test_diabetic, y_pred_inactivity)"
   ]
  },
  {
   "cell_type": "code",
   "execution_count": 34,
   "id": "140dd33c",
   "metadata": {},
   "outputs": [
    {
     "data": {
      "image/png": "[encoded data removed]",
      "text/plain": [
       "<Figure size 1200x600 with 2 Axes>"
      ]
     },
     "metadata": {},
     "output_type": "display_data"
    }
   ],
   "source": [
    "# Plotting the results again\n",
    "fig, axes = plt.subplots(1, 2, figsize=(12, 6))\n",
    "\n",
    "# Plot for % obese vs % diabetic\n",
    "axes[0].scatter(X_test_obesity, y_test_diabetic, color='blue', label='Actual')\n",
    "axes[0].plot(X_test_obesity, y_pred_obesity, color='red', linewidth=2, label='Predicted')\n",
    "axes[0].set_title('% Obese vs % Diabetic')\n",
    "axes[0].set_xlabel('% Obese')\n",
    "axes[0].set_ylabel('% Diabetic')\n",
    "axes[0].legend()\n",
    "\n",
    "# Plot for % inactive vs % diabetic\n",
    "axes[1].scatter(X_test_inactivity, y_test_diabetic, color='green', label='Actual')\n",
    "axes[1].plot(X_test_inactivity, y_pred_inactivity, color='orange', linewidth=2, label='Predicted')\n",
    "axes[1].set_title('% Inactive vs % Diabetic')\n",
    "axes[1].set_xlabel('% Inactive')\n",
    "axes[1].set_ylabel('% Diabetic')\n",
    "axes[1].legend()\n",
    "\n",
    "plt.tight_layout()\n",
    "plt.show()"
   ]
  },
  {
   "cell_type": "code",
   "execution_count": 35,
   "id": "bd2bdcff",
   "metadata": {},
   "outputs": [
    {
     "data": {
      "text/plain": [
       "(0.3584917200690736,\n",
       " 0.10344167127977932,\n",
       " 0.30729411504468623,\n",
       " 0.23148267369483777)"
      ]
     },
     "execution_count": 35,
     "metadata": {},
     "output_type": "execute_result"
    }
   ],
   "source": [
    "# Returning the MSE and R2 score for both models\n",
    "(mse_obesity, r2_obesity, mse_inactivity, r2_inactivity)"
   ]
  },
  {
   "cell_type": "code",
   "execution_count": 39,
   "id": "9b707a44",
   "metadata": {},
   "outputs": [
    {
     "ename": "ValueError",
     "evalue": "The Breusch-Pagan test requires exog to have at least two columns where one is a constant.",
     "output_type": "error",
     "traceback": [
      "\u001b[1;31m---------------------------------------------------------------------------\u001b[0m",
      "\u001b[1;31mValueError\u001b[0m                                Traceback (most recent call last)",
      "Cell \u001b[1;32mIn[39], line 5\u001b[0m\n\u001b[0;32m      1\u001b[0m \u001b[38;5;28;01mfrom\u001b[39;00m \u001b[38;5;21;01mstatsmodels\u001b[39;00m\u001b[38;5;21;01m.\u001b[39;00m\u001b[38;5;21;01mstats\u001b[39;00m\u001b[38;5;21;01m.\u001b[39;00m\u001b[38;5;21;01mdiagnostic\u001b[39;00m \u001b[38;5;28;01mimport\u001b[39;00m het_breuschpagan\n\u001b[0;32m      4\u001b[0m residuals_obesity \u001b[38;5;241m=\u001b[39m y_test_diabetic \u001b[38;5;241m-\u001b[39m y_pred_obesity\n\u001b[1;32m----> 5\u001b[0m bp_test_obesity \u001b[38;5;241m=\u001b[39m het_breuschpagan(residuals_obesity, X_test_obesity)\n\u001b[0;32m      7\u001b[0m \u001b[38;5;66;03m# Perform the Breusch-Pagan test for % Inactive vs % Diabetic\u001b[39;00m\n\u001b[0;32m      8\u001b[0m residuals_inactivity \u001b[38;5;241m=\u001b[39m y_test_diabetic \u001b[38;5;241m-\u001b[39m y_pred_inactivity\n",
      "File \u001b[1;32m~\\anaconda3\\Lib\\site-packages\\statsmodels\\stats\\diagnostic.py:792\u001b[0m, in \u001b[0;36mhet_breuschpagan\u001b[1;34m(resid, exog_het, robust)\u001b[0m\n\u001b[0;32m    724\u001b[0m \u001b[38;5;250m\u001b[39m\u001b[38;5;124mr\u001b[39m\u001b[38;5;124;03m\"\"\"\u001b[39;00m\n\u001b[0;32m    725\u001b[0m \u001b[38;5;124;03mBreusch-Pagan Lagrange Multiplier test for heteroscedasticity\u001b[39;00m\n\u001b[0;32m    726\u001b[0m \n\u001b[1;32m   (...)\u001b[0m\n\u001b[0;32m    789\u001b[0m \u001b[38;5;124;03m   heteroskedasticity\". Journal of Econometrics 17 (1): 107–112.\u001b[39;00m\n\u001b[0;32m    790\u001b[0m \u001b[38;5;124;03m\"\"\"\u001b[39;00m\n\u001b[0;32m    791\u001b[0m x \u001b[38;5;241m=\u001b[39m array_like(exog_het, \u001b[38;5;124m\"\u001b[39m\u001b[38;5;124mexog_het\u001b[39m\u001b[38;5;124m\"\u001b[39m, ndim\u001b[38;5;241m=\u001b[39m\u001b[38;5;241m2\u001b[39m)\n\u001b[1;32m--> 792\u001b[0m _check_het_test(x, \u001b[38;5;124m\"\u001b[39m\u001b[38;5;124mThe Breusch-Pagan\u001b[39m\u001b[38;5;124m\"\u001b[39m)\n\u001b[0;32m    793\u001b[0m y \u001b[38;5;241m=\u001b[39m array_like(resid, \u001b[38;5;124m\"\u001b[39m\u001b[38;5;124mresid\u001b[39m\u001b[38;5;124m\"\u001b[39m, ndim\u001b[38;5;241m=\u001b[39m\u001b[38;5;241m1\u001b[39m) \u001b[38;5;241m*\u001b[39m\u001b[38;5;241m*\u001b[39m \u001b[38;5;241m2\u001b[39m\n\u001b[0;32m    794\u001b[0m \u001b[38;5;28;01mif\u001b[39;00m \u001b[38;5;129;01mnot\u001b[39;00m robust:\n",
      "File \u001b[1;32m~\\anaconda3\\Lib\\site-packages\\statsmodels\\stats\\diagnostic.py:717\u001b[0m, in \u001b[0;36m_check_het_test\u001b[1;34m(x, test_name)\u001b[0m\n\u001b[0;32m    712\u001b[0m x_max \u001b[38;5;241m=\u001b[39m x\u001b[38;5;241m.\u001b[39mmax(axis\u001b[38;5;241m=\u001b[39m\u001b[38;5;241m0\u001b[39m)\n\u001b[0;32m    713\u001b[0m \u001b[38;5;28;01mif\u001b[39;00m (\n\u001b[0;32m    714\u001b[0m     \u001b[38;5;129;01mnot\u001b[39;00m np\u001b[38;5;241m.\u001b[39many(((x_max \u001b[38;5;241m-\u001b[39m x\u001b[38;5;241m.\u001b[39mmin(axis\u001b[38;5;241m=\u001b[39m\u001b[38;5;241m0\u001b[39m)) \u001b[38;5;241m==\u001b[39m \u001b[38;5;241m0\u001b[39m) \u001b[38;5;241m&\u001b[39m (x_max \u001b[38;5;241m!=\u001b[39m \u001b[38;5;241m0\u001b[39m))\n\u001b[0;32m    715\u001b[0m     \u001b[38;5;129;01mor\u001b[39;00m x\u001b[38;5;241m.\u001b[39mshape[\u001b[38;5;241m1\u001b[39m] \u001b[38;5;241m<\u001b[39m \u001b[38;5;241m2\u001b[39m\n\u001b[0;32m    716\u001b[0m ):\n\u001b[1;32m--> 717\u001b[0m     \u001b[38;5;28;01mraise\u001b[39;00m \u001b[38;5;167;01mValueError\u001b[39;00m(\n\u001b[0;32m    718\u001b[0m         \u001b[38;5;124mf\u001b[39m\u001b[38;5;124m\"\u001b[39m\u001b[38;5;132;01m{\u001b[39;00mtest_name\u001b[38;5;132;01m}\u001b[39;00m\u001b[38;5;124m test requires exog to have at least \u001b[39m\u001b[38;5;124m\"\u001b[39m\n\u001b[0;32m    719\u001b[0m         \u001b[38;5;124m\"\u001b[39m\u001b[38;5;124mtwo columns where one is a constant.\u001b[39m\u001b[38;5;124m\"\u001b[39m\n\u001b[0;32m    720\u001b[0m     )\n",
      "\u001b[1;31mValueError\u001b[0m: The Breusch-Pagan test requires exog to have at least two columns where one is a constant."
     ]
    }
   ],
   "source": [
    "from statsmodels.stats.diagnostic import het_breuschpagan\n",
    "\n",
    "\n",
    "residuals_obesity = y_test_diabetic - y_pred_obesity\n",
    "bp_test_obesity = het_breuschpagan(residuals_obesity, X_test_obesity)\n",
    "\n",
    "# Perform the Breusch-Pagan test for % Inactive vs % Diabetic\n",
    "residuals_inactivity = y_test_diabetic - y_pred_inactivity\n",
    "bp_test_inactivity = het_breuschpagan(residuals_inactivity, X_test_inactivity)\n",
    "\n",
    "bp_test_obesity, bp_test_inactivity"
   ]
  },
  {
   "cell_type": "code",
   "execution_count": null,
   "id": "51180a1f",
   "metadata": {},
   "outputs": [],
   "source": []
  },
  {
   "cell_type": "code",
   "execution_count": null,
   "id": "709040bc",
   "metadata": {},
   "outputs": [],
   "source": []
  },
  {
   "cell_type": "code",
   "execution_count": null,
   "id": "918b2024",
   "metadata": {},
   "outputs": [],
   "source": []
  },
  {
   "cell_type": "code",
   "execution_count": null,
   "id": "497fffe2",
   "metadata": {},
   "outputs": [],
   "source": []
  },
  {
   "cell_type": "code",
   "execution_count": null,
   "id": "7b437361",
   "metadata": {},
   "outputs": [],
   "source": []
  },
  {
   "cell_type": "code",
   "execution_count": null,
   "id": "5f271623",
   "metadata": {},
   "outputs": [],
   "source": []
  },
  {
   "cell_type": "code",
   "execution_count": null,
   "id": "301b83df",
   "metadata": {},
   "outputs": [],
   "source": []
  },
  {
   "cell_type": "code",
   "execution_count": null,
   "id": "650ad98f",
   "metadata": {},
   "outputs": [],
   "source": []
  }
 ],
 "metadata": {
  "kernelspec": {
   "display_name": "Python 3 (ipykernel)",
   "language": "python",
   "name": "python3"
  },
  "language_info": {
   "codemirror_mode": {
    "name": "ipython",
    "version": 3
   },
   "file_extension": ".py",
   "mimetype": "text/x-python",
   "name": "python",
   "nbconvert_exporter": "python",
   "pygments_lexer": "ipython3",
   "version": "3.11.4"
  }
 },
 "nbformat": 4,
 "nbformat_minor": 5
}
